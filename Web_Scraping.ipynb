{
 "cells": [
  {
   "cell_type": "code",
   "execution_count": 1,
   "metadata": {},
   "outputs": [],
   "source": [
    "from bs4 import BeautifulSoup as soup\n",
    "from urllib.request import urlopen as uReq"
   ]
  },
  {
   "cell_type": "code",
   "execution_count": 2,
   "metadata": {},
   "outputs": [],
   "source": [
    "my_Url = \"https://www.flipkart.com/search?q=iphone&otracker=search&otracker1=search&marketplace=FLIPKART&as-show=on&as=off&as-pos=0&as-type=HISTORY\""
   ]
  },
  {
   "cell_type": "code",
   "execution_count": 3,
   "metadata": {},
   "outputs": [],
   "source": [
    "uClient = uReq(my_Url)\n",
    "page_html = uClient.read()\n",
    "uClient.close()\n",
    "page_soup = soup(page_html,\"html.parser\")"
   ]
  },
  {
   "cell_type": "code",
   "execution_count": 4,
   "metadata": {},
   "outputs": [
    {
     "name": "stdout",
     "output_type": "stream",
     "text": [
      "24\n"
     ]
    }
   ],
   "source": [
    "containers = page_soup.findAll(\"div\",{\"class\":\"_1UoZlX\"})\n",
    "print(len(containers))"
   ]
  },
  {
   "cell_type": "code",
   "execution_count": 5,
   "metadata": {},
   "outputs": [
    {
     "name": "stdout",
     "output_type": "stream",
     "text": [
      "<div class=\"_1UoZlX\">\n",
      " <a class=\"_31qSD5\" href=\"/apple-iphone-se-space-grey-32-gb/p/itmetm9fypda5rfs?pid=MOBETM9FZWW5UEZG&amp;srno=s_1_1&amp;otracker=search&amp;lid=LSTMOBETM9FZWW5UEZGJKPO31&amp;fm=organic&amp;iid=9ed4bf10-7a86-4cac-a5e6-a5246d704677.MOBETM9FZWW5UEZG.SEARCH&amp;qH=0b3f45b266a97d70\" rel=\"noopener noreferrer\" target=\"_blank\">\n",
      "  <div class=\"_3RW86r\">\n",
      "   ON OFFER\n",
      "  </div>\n",
      "  <div class=\"_3SQWE6\">\n",
      "   <div class=\"_1OCn9C\">\n",
      "    <div>\n",
      "     <div class=\"_3BTv9X\" style=\"height:200px;width:200px\">\n",
      "      <img alt=\"Apple iPhone SE (Space Grey, 32 GB)\" class=\"_1Nyybr\" src=\"//img1a.flixcart.com/www/linchpin/fk-cp-zion/img/placeholder_9951d0.svg\"/>\n",
      "     </div>\n",
      "    </div>\n",
      "   </div>\n",
      "   <div class=\"_2lesQu\">\n",
      "    <div class=\"_1O_CiZ\">\n",
      "     <span class=\"_1iHA1p\">\n",
      "      <div class=\"_2kFyHg\">\n",
      "       <label>\n",
      "        <input class=\"_3uUUD5\" readonly=\"\" type=\"checkbox\"/>\n",
      "        <div class=\"_1p7h2j\">\n",
      "        </div>\n",
      "       </label>\n",
      "      </div>\n",
      "     </span>\n",
      "     <label class=\"_10TB-Q\">\n",
      "      <span>\n",
      "       Add to Compare\n",
      "      </span>\n",
      "     </label>\n",
      "    </div>\n",
      "   </div>\n",
      "   <div class=\"_3gDSOa _32A6AP\">\n",
      "    <div class=\"DsQ2eg\">\n",
      "     <svg class=\"_2oLiqr\" height=\"16\" viewbox=\"0 0 20 16\" width=\"16\" xmlns=\"http://www.w3.org/2000/svg\">\n",
      "      <path class=\"_35Y7Yo\" d=\"M8.695 16.682C4.06 12.382 1 9.536 1 6.065 1 3.219 3.178 1 5.95 1c1.566 0 3.069.746 4.05 1.915C10.981 1.745 12.484 1 14.05 1 16.822 1 19 3.22 19 6.065c0 3.471-3.06 6.316-7.695 10.617L10 17.897l-1.305-1.215z\" fill=\"#2874F0\" fill-rule=\"evenodd\" opacity=\".9\" stroke=\"#FFF\">\n",
      "      </path>\n",
      "     </svg>\n",
      "    </div>\n",
      "   </div>\n",
      "  </div>\n",
      "  <div class=\"_1-2Iqu row\">\n",
      "   <div class=\"col col-7-12\">\n",
      "    <div class=\"_3wU53n\">\n",
      "     Apple iPhone SE (Space Grey, 32 GB)\n",
      "    </div>\n",
      "    <div class=\"niH0FQ\">\n",
      "     <span class=\"_2_KrJI\" id=\"productRating_LSTMOBETM9FZWW5UEZGJKPO31_MOBETM9FZWW5UEZG_\">\n",
      "      <div class=\"hGSR34 _2beYZw\">\n",
      "       4.5\n",
      "       <!-- -->\n",
      "       ★\n",
      "      </div>\n",
      "     </span>\n",
      "     <span class=\"_38sUEc\">\n",
      "      <span>\n",
      "       <span>\n",
      "        57,674 Ratings\n",
      "       </span>\n",
      "       <span class=\"_1VpSqZ\">\n",
      "        &amp;\n",
      "       </span>\n",
      "       <span>\n",
      "        7,817 Reviews\n",
      "       </span>\n",
      "      </span>\n",
      "     </span>\n",
      "    </div>\n",
      "    <div class=\"_3ULzGw\">\n",
      "     <ul class=\"vFw0gD\">\n",
      "      <li class=\"tVe95H\">\n",
      "       32 GB ROM |\n",
      "      </li>\n",
      "      <li class=\"tVe95H\">\n",
      "       10.16 cm (4 inch) Retina Display\n",
      "      </li>\n",
      "      <li class=\"tVe95H\">\n",
      "       12MP Rear Camera | 1.2MP Front Camera\n",
      "      </li>\n",
      "      <li class=\"tVe95H\">\n",
      "       Li-Ion Battery\n",
      "      </li>\n",
      "      <li class=\"tVe95H\">\n",
      "       Apple A9 64-bit processor and Embedded M9 Motion Co-processor\n",
      "      </li>\n",
      "      <li class=\"tVe95H\">\n",
      "       Brand Warranty of 1 Year\n",
      "      </li>\n",
      "     </ul>\n",
      "    </div>\n",
      "   </div>\n",
      "   <div class=\"col col-5-12 _2o7WAb\">\n",
      "    <div class=\"_6BWGkk\">\n",
      "     <div class=\"_1uv9Cb\">\n",
      "      <div class=\"_1vC4OE _2rQ-NK\">\n",
      "       ₹17,999\n",
      "      </div>\n",
      "      <div class=\"_3auQ3N _2GcJzG\">\n",
      "       ₹\n",
      "       <!-- -->\n",
      "       26,000\n",
      "      </div>\n",
      "      <div class=\"VGWI6T\">\n",
      "       <span>\n",
      "        30% off\n",
      "       </span>\n",
      "      </div>\n",
      "     </div>\n",
      "    </div>\n",
      "    <div class=\"_3n6o0t\">\n",
      "     <img height=\"21\" src=\"//img1a.flixcart.com/www/linchpin/fk-cp-zion/img/fa_8b4b59.png\"/>\n",
      "    </div>\n",
      "    <div class=\"_3gVem9\">\n",
      "     <span>\n",
      "      Up to\n",
      "      <span class=\"_2xjzPG\">\n",
      "       ₹14,900\n",
      "      </span>\n",
      "      Off on Exchange\n",
      "     </span>\n",
      "    </div>\n",
      "    <div class=\"_3MCpsc\">\n",
      "     EMI starting from\n",
      "     <span class=\"_1JT2XE\">\n",
      "      ₹\n",
      "      <!-- -->\n",
      "      598\n",
      "      <!-- -->\n",
      "      /month\n",
      "     </span>\n",
      "    </div>\n",
      "    <div class=\"OPF9v4 _2WQngC\">\n",
      "     <span class=\"_1xZuAn\">\n",
      "      Offers\n",
      "     </span>\n",
      "     <ul class=\"_3U7997\">\n",
      "      <li class=\"_1ZRRx1\">\n",
      "       Special Price\n",
      "      </li>\n",
      "      <li class=\"_1ZRRx1\">\n",
      "       Bank Offer\n",
      "      </li>\n",
      "     </ul>\n",
      "    </div>\n",
      "   </div>\n",
      "  </div>\n",
      " </a>\n",
      "</div>\n"
     ]
    }
   ],
   "source": [
    "# Return overall html under that containers\n",
    "print(soup.prettify(containers[0]))"
   ]
  },
  {
   "cell_type": "code",
   "execution_count": 6,
   "metadata": {},
   "outputs": [
    {
     "name": "stdout",
     "output_type": "stream",
     "text": [
      "Apple iPhone SE (Space Grey, 32 GB)\n"
     ]
    }
   ],
   "source": [
    "container = containers[0]\n",
    "Title = container.findAll(\"div\",{\"class\":\"_3wU53n\"})\n",
    "print(Title[0].text)"
   ]
  },
  {
   "cell_type": "code",
   "execution_count": 7,
   "metadata": {},
   "outputs": [
    {
     "name": "stdout",
     "output_type": "stream",
     "text": [
      "₹17,999\n"
     ]
    }
   ],
   "source": [
    "Price = container.findAll(\"div\",{\"class\":\"_1vC4OE _2rQ-NK\"})\n",
    "print(Price[0].text)"
   ]
  },
  {
   "cell_type": "code",
   "execution_count": 8,
   "metadata": {},
   "outputs": [
    {
     "name": "stdout",
     "output_type": "stream",
     "text": [
      "4.5 ★\n"
     ]
    }
   ],
   "source": [
    "Rating = container.findAll(\"div\",{\"class\":\"hGSR34 _2beYZw\"})\n",
    "print(Rating[0].text)"
   ]
  },
  {
   "cell_type": "code",
   "execution_count": 9,
   "metadata": {},
   "outputs": [],
   "source": [
    "filename = \"Product.csv\"\n",
    "f = open(filename,'w')"
   ]
  },
  {
   "cell_type": "code",
   "execution_count": 10,
   "metadata": {},
   "outputs": [
    {
     "data": {
      "text/plain": [
       "28"
      ]
     },
     "execution_count": 10,
     "metadata": {},
     "output_type": "execute_result"
    }
   ],
   "source": [
    "headers = \"Product_Name,Pricing,Rating\\n\"\n",
    "f.write(headers)"
   ]
  },
  {
   "cell_type": "code",
   "execution_count": 11,
   "metadata": {},
   "outputs": [
    {
     "name": "stdout",
     "output_type": "stream",
     "text": [
      "Apple iPhone SE (Space Grey ∣ 32 GB) , Rs. 17999 , 4.5\n",
      "\n",
      "Apple iPhone SE (Rose Gold ∣ 32 GB) , Rs. 17999 , 4.5\n",
      "\n",
      "Apple iPhone SE (Gold ∣ 32 GB) , Rs. 17999 , 4.5\n",
      "\n",
      "Apple iPhone 6s Plus (Rose Gold ∣ 32 GB) , Rs. 34499 , 4.4\n",
      "\n",
      "Apple iPhone SE (Silver ∣ 32 GB) , Rs. 17999 , 4.5\n",
      "\n",
      "Apple iPhone 6 (Gold ∣ 32 GB) , Rs. 23999 , 4.4\n",
      "\n",
      "Apple iPhone 6 (Space Grey ∣ 32 GB) , Rs. 23999 , 4.4\n",
      "\n",
      "Apple iPhone 6s Plus (Space Grey ∣ 32 GB) , Rs. 34499 , 4.5\n",
      "\n",
      "Apple iPhone 6s (Rose Gold ∣ 32 GB) , Rs. 29499 , 4.4\n",
      "\n",
      "Apple iPhone 6s Plus (Gold ∣ 32 GB) , Rs. 34499 , 4.4\n",
      "\n",
      "Apple iPhone 7 (Black ∣ 32 GB) , Rs. 39900 , 4.5\n",
      "\n",
      "Apple iPhone 7 (Rose Gold ∣ 32 GB) , Rs. 39900 , 4.5\n",
      "\n",
      "Apple iPhone 6s (Space Grey ∣ 32 GB) , Rs. 29499 , 4.5\n",
      "\n",
      "Apple iPhone 6s (Gold ∣ 32 GB) , Rs. 29499 , 4.4\n",
      "\n",
      "Apple iPhone XS (Space Grey ∣ 64 GB) , Rs. 99900 , 4.6\n",
      "\n",
      "Apple iPhone 6s (Silver ∣ 32 GB) , Rs. 29499 , 4.4\n",
      "\n",
      "Apple iPhone 7 (Gold ∣ 32 GB) , Rs. 39900 , 4.5\n",
      "\n",
      "Apple iPhone 7 Plus (Gold ∣ 32 GB) , Rs. 53999 , 4.6\n",
      "\n",
      "Apple iPhone 7 (Jet Black ∣ 32 GB) , Rs. 41900 , 4.5\n",
      "\n",
      "Apple iPhone 8 (Silver ∣ 64 GB) , Rs. 58999 , 4.5\n",
      "\n",
      "Apple iPhone XR (Black ∣ 64 GB) , Rs. 76900 , 4.8\n",
      "\n",
      "Apple iPhone XS Max (Space Grey ∣ 256 GB) , Rs. 124900 , 4.7\n",
      "\n",
      "Apple iPhone 6s Plus (Silver ∣ 32 GB) , Rs. 34499 , 4.4\n",
      "\n",
      "Apple iPhone 7 (Rose Gold ∣ 128 GB) , Rs. 49999 , 4.6\n",
      "\n"
     ]
    }
   ],
   "source": [
    "for container in containers:\n",
    "    product_name = container.findAll(\"div\",{\"class\":\"_3wU53n\"})\n",
    "    product = product_name[0].text\n",
    "    \n",
    "    price_container = container.findAll(\"div\",{\"class\":\"_1vC4OE _2rQ-NK\"})\n",
    "    price = price_container[0].text.strip()\n",
    "    \n",
    "    rating_container = container.findAll(\"div\",{\"class\":\"hGSR34 _2beYZw\"})\n",
    "    rating = rating_container[0].text\n",
    "    \n",
    "    # String Parsing\n",
    "    \n",
    "    trim_price = ''.join(price.split(',')) \n",
    "    # This line split when \",\" encounter and join with  spilt each part\n",
    "    # ₹17,999 is split into ₹17 and 999 \n",
    "    # Due to ''.join function it join that split part so output is ₹17999\n",
    "    rm_rupee = trim_price.split(\"₹\")\n",
    "    final_price = \"Rs. \" + rm_rupee[1]\n",
    "\n",
    "    \n",
    "    split_rating = rating.split(\" \")\n",
    "    final_rating = split_rating[0]\n",
    "    \n",
    "    \n",
    "    # Comma is replaced by ∣ because when comma encounter then CSV create another column\n",
    "    print(product.replace(\",\",\" ∣\") + \" , \" + final_price + \" , \" + final_rating+\"\\n\")\n",
    "    f.write(product.replace(\",\",\" ∣\") + \" , \" + final_price + \" , \" + final_rating+\"\\n\")\n",
    "    \n",
    "f.close()"
   ]
  },
  {
   "cell_type": "code",
   "execution_count": null,
   "metadata": {},
   "outputs": [],
   "source": []
  }
 ],
 "metadata": {
  "kernelspec": {
   "display_name": "Python 3",
   "language": "python",
   "name": "python3"
  },
  "language_info": {
   "codemirror_mode": {
    "name": "ipython",
    "version": 3
   },
   "file_extension": ".py",
   "mimetype": "text/x-python",
   "name": "python",
   "nbconvert_exporter": "python",
   "pygments_lexer": "ipython3",
   "version": "3.6.7"
  }
 },
 "nbformat": 4,
 "nbformat_minor": 2
}
